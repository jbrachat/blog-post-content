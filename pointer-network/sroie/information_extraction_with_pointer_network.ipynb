{
 "cells": [
  {
   "cell_type": "code",
   "execution_count": 1,
   "id": "14aaf58d-8c0d-4f85-8a0d-588f1e84d14d",
   "metadata": {},
   "outputs": [],
   "source": [
    "%load_ext autoreload\n",
    "%autoreload 2\n",
    "\n",
    "import random\n",
    "import torch\n",
    "import json\n",
    "import numpy as np\n",
    "from tqdm import tqdm\n",
    "import matplotlib.pyplot as plt\n",
    "import os"
   ]
  },
  {
   "cell_type": "code",
   "execution_count": 2,
   "id": "c89b02a6-c094-4159-9037-40323b4eb3bb",
   "metadata": {},
   "outputs": [
    {
     "name": "stderr",
     "output_type": "stream",
     "text": [
      "C:\\Envs\\pointer-network\\lib\\site-packages\\torch\\__init__.py:421: UserWarning: torch.set_deterministic is deprecated and will be removed in a future release. Please use torch.use_deterministic_algorithms instead\n",
      "  warnings.warn((\n"
     ]
    }
   ],
   "source": [
    "import os, sys\n",
    "dir2 = os.path.abspath('')\n",
    "dir1 = os.path.dirname(dir2)\n",
    "if not dir1 in sys.path: sys.path.append(dir1)\n",
    "\n",
    "from utils import set_seed\n",
    "set_seed(0)"
   ]
  },
  {
   "cell_type": "markdown",
   "id": "edde8c57-45ac-4b0a-b454-c7629f567a6c",
   "metadata": {},
   "source": [
    "# Load data, OCR and labels"
   ]
  },
  {
   "cell_type": "code",
   "execution_count": 24,
   "id": "d01dd0f1-2069-41a8-9f95-05835378b624",
   "metadata": {},
   "outputs": [],
   "source": [
    "s = sys.path\n",
    "\n",
    "\n",
    "from preprocess_data import generate_documents\n",
    "\n",
    "documents = generate_documents(\"address\",\n",
    "                               r\"C:\\Git\\blog-post-content\\pointer-network\\sroie\\ocr\",\n",
    "                               r\"C:\\Git\\blog-post-content\\pointer-network\\sroie\\labels\",\n",
    "                               r\"C:\\Git\\blog-post-content\\pointer-network\\sroie\\images\")\n"
   ]
  },
  {
   "cell_type": "markdown",
   "id": "9747133e-2cb9-472f-877d-52a73ba07d0f",
   "metadata": {},
   "source": [
    "The ground truth is a rectangle on the page that delimites where the ground is located. On the following example it is displayed in red, all the tokens transcribed by pytesseract are in blue."
   ]
  },
  {
   "cell_type": "code",
   "execution_count": 26,
   "id": "10b9288c-ddee-4463-8cb3-99897c77dbbe",
   "metadata": {},
   "outputs": [],
   "source": [
    "from utils import display_doc\n",
    "display_doc(documents[3]).show()"
   ]
  },
  {
   "cell_type": "markdown",
   "id": "be4d28d4-3472-43e8-9220-9ecb99aa464c",
   "metadata": {},
   "source": [
    "## Matching the ground truth to tokens"
   ]
  },
  {
   "cell_type": "code",
   "execution_count": 6,
   "id": "dfd4f926-2780-42ec-84c4-2f809655acb9",
   "metadata": {},
   "outputs": [
    {
     "name": "stderr",
     "output_type": "stream",
     "text": [
      "100%|██████████| 1000/1000 [00:02<00:00, 385.83it/s]\n"
     ]
    }
   ],
   "source": [
    "from utils import ground_truth_match\n",
    "for doc in tqdm(documents.values()):\n",
    "    doc['labels'] = ground_truth_match(doc['OCR'], doc['ground_truth'])"
   ]
  },
  {
   "cell_type": "code",
   "execution_count": 7,
   "id": "803136a1-332e-4f8a-9657-37ca859b7d95",
   "metadata": {},
   "outputs": [
    {
     "data": {
      "image/png": "[encoded data removed]",
      "text/plain": [
       "<Figure size 432x288 with 1 Axes>"
      ]
     },
     "metadata": {
      "needs_background": "light"
     },
     "output_type": "display_data"
    }
   ],
   "source": [
    "lengths = [\n",
    "    len(doc['labels'])\n",
    "    for doc in documents.values()\n",
    "]\n",
    "\n",
    "plt.figure()\n",
    "plt.hist(lengths)\n",
    "plt.show()"
   ]
  },
  {
   "cell_type": "markdown",
   "id": "080a4437-4a67-4ace-ac61-5545bbbf7da0",
   "metadata": {},
   "source": [
    "We notice some outliers at 11 words, therefore we remove addresses where the number of matched tokens is higher than the number of words in the ground truth."
   ]
  },
  {
   "cell_type": "code",
   "execution_count": 8,
   "id": "5788cbdd-d72e-485c-b64d-880e02aec5e9",
   "metadata": {},
   "outputs": [],
   "source": [
    "failed_matching = []\n",
    "for key, doc in documents.items():\n",
    "    length_address = len(doc['address'].split())\n",
    "    if length_address != len(doc['labels']):\n",
    "        failed_matching.append(key)"
   ]
  },
  {
   "cell_type": "code",
   "execution_count": 9,
   "id": "91ab4fa8-1d0a-4da2-8009-51ff062c49c3",
   "metadata": {},
   "outputs": [],
   "source": [
    "for key in failed_matching:\n",
    "    del documents[key]"
   ]
  },
  {
   "cell_type": "code",
   "execution_count": 10,
   "id": "7e6649bc-0c5e-4633-b2a4-fc065a54f658",
   "metadata": {},
   "outputs": [
    {
     "data": {
      "image/png": "[encoded data removed]",
      "text/plain": [
       "<Figure size 432x288 with 1 Axes>"
      ]
     },
     "metadata": {
      "needs_background": "light"
     },
     "output_type": "display_data"
    }
   ],
   "source": [
    "lengths = [\n",
    "    len(doc['labels'])\n",
    "    for doc in documents.values()\n",
    "]\n",
    "\n",
    "plt.figure()\n",
    "plt.hist(lengths)\n",
    "plt.show()"
   ]
  },
  {
   "cell_type": "markdown",
   "id": "10d56e33-a13f-4cd6-bf89-58dc7b0e24cf",
   "metadata": {},
   "source": [
    "# Pre-process data"
   ]
  },
  {
   "cell_type": "markdown",
   "id": "9e4a4966-8451-4030-a29b-557b67f3c763",
   "metadata": {},
   "source": [
    "## Text pre-processing"
   ]
  },
  {
   "cell_type": "code",
   "execution_count": 11,
   "id": "1fa502da-59cc-4d9a-945c-d3a6116e794f",
   "metadata": {},
   "outputs": [],
   "source": [
    "from utils import text_pre_processing"
   ]
  },
  {
   "cell_type": "markdown",
   "id": "7592c39a-8852-4dbc-ade7-111c99a77538",
   "metadata": {},
   "source": [
    "We put everything in lowercase and only keep alphabet letters and numbers. "
   ]
  },
  {
   "cell_type": "code",
   "execution_count": 12,
   "id": "e669301b-650b-415f-8b37-89f618107908",
   "metadata": {},
   "outputs": [],
   "source": [
    "data = [\n",
    "    (\n",
    "        key,\n",
    "        [\n",
    "            (text_pre_processing(token['text']), token['position']) for token in doc['OCR']\n",
    "        ],\n",
    "        doc['labels']\n",
    "    )\n",
    "    for key, doc in documents.items()\n",
    "]\n"
   ]
  },
  {
   "cell_type": "markdown",
   "id": "d1028839-4e69-4063-8c0d-0ca526ffccfc",
   "metadata": {},
   "source": [
    "# Split train / validation / test"
   ]
  },
  {
   "cell_type": "markdown",
   "id": "6943557e-bf9c-4a8a-80b8-12f028b75073",
   "metadata": {},
   "source": [
    "We will train the model on train, find a threshold on validation and make sure it works as expected on test"
   ]
  },
  {
   "cell_type": "code",
   "execution_count": 13,
   "id": "2e9898ea-4465-4460-9f20-ea931bc22fd4",
   "metadata": {},
   "outputs": [],
   "source": [
    "N_DOCS = len(data)\n",
    "split = 60, 20, 20  # train / validation / test\n",
    "\n",
    "random.shuffle(data)\n",
    "n_train = int(split[0] / 100 * N_DOCS)\n",
    "n_val = n_train + int(split[1] / 100 * N_DOCS)\n",
    "\n",
    "dataset_split = {\n",
    "    'train': [doc for doc in data[:n_train]],\n",
    "    'validation': [doc for doc in data[n_train:n_val]],\n",
    "    'test': [doc for doc in data[n_val:]],\n",
    "}"
   ]
  },
  {
   "cell_type": "code",
   "execution_count": 14,
   "id": "65cecf1e-f67d-4b8f-881c-63f3428662b8",
   "metadata": {},
   "outputs": [
    {
     "data": {
      "text/plain": [
       "[('invoiced', [102, 104, 173, 119]),\n",
       " ('company', [180, 108, 260, 123]),\n",
       " ('8550', [101, 133, 143, 147]),\n",
       " ('tamara', [149, 133, 218, 147]),\n",
       " ('extensions', [226, 132, 320, 147])]"
      ]
     },
     "execution_count": 14,
     "metadata": {},
     "output_type": "execute_result"
    }
   ],
   "source": [
    "dataset_split['train'][0][1][:5]"
   ]
  },
  {
   "cell_type": "markdown",
   "id": "6e972dac-464e-4127-9f82-a396d1860c7d",
   "metadata": {},
   "source": [
    "# Mapping the characters"
   ]
  },
  {
   "cell_type": "markdown",
   "id": "907851e4-dfbe-45a2-ba77-b9f858a637fc",
   "metadata": {},
   "source": [
    "We decided on a simple architecture with character level embedding that we feed to an encoder to get word level embedding. Here we map each character to a number."
   ]
  },
  {
   "cell_type": "code",
   "execution_count": 15,
   "id": "22acdb54-8e55-4104-937f-663495a30459",
   "metadata": {},
   "outputs": [
    {
     "data": {
      "text/plain": [
       "36"
      ]
     },
     "execution_count": 15,
     "metadata": {},
     "output_type": "execute_result"
    }
   ],
   "source": [
    "characters = set()\n",
    "for _, doc_input, _ in dataset_split['train']:\n",
    "    for word, _ in doc_input:\n",
    "        characters |= set([x for x in word])\n",
    "characters = sorted(list(characters))\n",
    "characters_mapping = {char: i + 1 for i, char in enumerate(characters)}  # + 1 to account for the stop token\n",
    "len(characters_mapping)"
   ]
  },
  {
   "cell_type": "code",
   "execution_count": 16,
   "id": "4241d643-7655-4340-beea-0915eb90225d",
   "metadata": {},
   "outputs": [],
   "source": [
    "dataset_split = {\n",
    "    mode: [\n",
    "        (\n",
    "            key,\n",
    "            (\n",
    "                [\n",
    "                    ([characters_mapping[c] for c in word], position)\n",
    "                    for word, position in input_data\n",
    "                ]\n",
    "            ),\n",
    "            target\n",
    "        )\n",
    "        for key, input_data, target in dataset_split[mode]\n",
    "    ]\n",
    "    for mode in dataset_split\n",
    "}"
   ]
  },
  {
   "cell_type": "markdown",
   "id": "c5fa3fb7-d201-4409-96b6-84a4c82477e0",
   "metadata": {},
   "source": [
    "## Tensorification"
   ]
  },
  {
   "cell_type": "code",
   "execution_count": 17,
   "id": "685884d3-7f42-4704-92d5-20e724e537a9",
   "metadata": {},
   "outputs": [],
   "source": [
    "from utils import make_tensors\n",
    "\n",
    "tensors_data = {}\n",
    "for mode in dataset_split:\n",
    "    tensors_data[mode] = make_tensors(dataset_split[mode])\n"
   ]
  },
  {
   "cell_type": "code",
   "execution_count": 18,
   "id": "077840b0-2789-48a0-829b-3bc0b8c22f56",
   "metadata": {},
   "outputs": [
    {
     "name": "stdout",
     "output_type": "stream",
     "text": [
      "----------------------------------------\n",
      "mode train\n",
      "words torch.Size([598, 93, 33])\n",
      "positions torch.Size([598, 93, 4])\n",
      "target torch.Size([598, 10])\n",
      "----------------------------------------\n",
      "mode validation\n",
      "words torch.Size([199, 90, 35])\n",
      "positions torch.Size([199, 90, 4])\n",
      "target torch.Size([199, 10])\n",
      "----------------------------------------\n",
      "mode test\n",
      "words torch.Size([200, 88, 33])\n",
      "positions torch.Size([200, 88, 4])\n",
      "target torch.Size([200, 10])\n"
     ]
    }
   ],
   "source": [
    "for mode in tensors_data:\n",
    "    print('-'*40)\n",
    "    print('mode', mode)\n",
    "    print('words', tensors_data[mode].words.shape)\n",
    "    print('positions', tensors_data[mode].positions.shape)\n",
    "    print('target', tensors_data[mode].target.shape)\n"
   ]
  },
  {
   "cell_type": "markdown",
   "id": "84543e7f-3bca-4e7f-b1a1-a28f3e0a09a1",
   "metadata": {},
   "source": [
    "## Wrapping it up in a TensorDataset"
   ]
  },
  {
   "cell_type": "code",
   "execution_count": 19,
   "id": "08339c65-5b0f-4500-b0b3-5e17961462bd",
   "metadata": {},
   "outputs": [],
   "source": [
    "from torch.utils.data import TensorDataset, DataLoader \n",
    "datasets = {\n",
    "    mode: TensorDataset(\n",
    "            tensors_data[mode].keys,\n",
    "            tensors_data[mode].words.type(torch.LongTensor),\n",
    "            tensors_data[mode].positions,\n",
    "            tensors_data[mode].target.type(torch.LongTensor)\n",
    "        )\n",
    "    for mode in tensors_data\n",
    "}"
   ]
  },
  {
   "cell_type": "code",
   "execution_count": 20,
   "id": "94309607-4d41-4d94-a803-ca9d533eedd8",
   "metadata": {},
   "outputs": [
    {
     "data": {
      "text/plain": [
       "tensor([[15, 16, 17,  ...,  0,  0,  0],\n",
       "        [53, 54, 55,  ..., 60, 61,  0],\n",
       "        [10, 11, 12,  ...,  0,  0,  0],\n",
       "        ...,\n",
       "        [ 9, 10, 11,  ...,  0,  0,  0],\n",
       "        [ 2,  3,  4,  ...,  9,  0,  0],\n",
       "        [ 5,  6,  7,  ..., 12,  0,  0]])"
      ]
     },
     "execution_count": 20,
     "metadata": {},
     "output_type": "execute_result"
    }
   ],
   "source": [
    "tensors_data[mode].target "
   ]
  },
  {
   "cell_type": "markdown",
   "id": "11c59bb6-00e8-41e0-bb88-049fde62309b",
   "metadata": {},
   "source": [
    "# Training loop"
   ]
  },
  {
   "cell_type": "code",
   "execution_count": 21,
   "id": "ab973c28-e6c2-4cbe-9ce8-c7bcac9ff0de",
   "metadata": {},
   "outputs": [],
   "source": [
    "from utils import loss_function\n",
    "from model import Model"
   ]
  },
  {
   "cell_type": "markdown",
   "id": "1896bdc1-7e40-4b04-900c-e6e7b19bc972",
   "metadata": {},
   "source": [
    "The following hyper parameters are guesses and they have been slightly hand-tuned. For best results we could do a grid search or Bayesian optimization to find optimal hyper parameters."
   ]
  },
  {
   "cell_type": "code",
   "execution_count": 22,
   "id": "5ca703b0-bc44-4116-89b2-b7d5f95fabcc",
   "metadata": {},
   "outputs": [],
   "source": [
    "batch_size = 16\n",
    "embedding_dim = 64\n",
    "position_dim = 10\n",
    "learning_rate = 5e-3\n",
    "n_epochs = 80"
   ]
  },
  {
   "cell_type": "code",
   "execution_count": 23,
   "id": "a50128ff-6c82-42fa-9d3f-0d0cc2136183",
   "metadata": {},
   "outputs": [],
   "source": [
    "from utils import get_loaders\n",
    "\n",
    "train_loader, val_loader, test_loader = get_loaders(datasets, batch_size)"
   ]
  },
  {
   "cell_type": "code",
   "execution_count": 24,
   "id": "91944a92-41a2-4c2c-87c2-1e0c9b81acd2",
   "metadata": {},
   "outputs": [],
   "source": [
    "max_seq_len = 10\n",
    "\n",
    "model = Model(\n",
    "    len(characters_mapping) + 1, # + 1 to account for the stop token with index 0\n",
    "    embedding_dim,\n",
    "    position_dim,\n",
    "    max_seq_len\n",
    ")\n",
    "\n",
    "\n",
    "optimizer = torch.optim.Adam(model.parameters(), lr=learning_rate)\n",
    "\n"
   ]
  },
  {
   "cell_type": "markdown",
   "id": "b098bf53-e761-4f78-a4eb-0ad00cddc699",
   "metadata": {},
   "source": [
    "In the metrics that we compute, the accuracy tells us how often we are able to make a perfect prediction. The Precision-Recall AUC tells us how well we are able to distinguish between correct and incorrect predictions which will be key when we want to threshold. A low PR-AUC means that you have to pick between recall and precision, a high PR-AUC means you should be able to find a better trade-off between the two."
   ]
  },
  {
   "cell_type": "code",
   "execution_count": 25,
   "id": "143601d2-cfc1-4fbd-89b4-275b37fc612c",
   "metadata": {
    "tags": []
   },
   "outputs": [
    {
     "name": "stderr",
     "output_type": "stream",
     "text": [
      "100%|██████████| 38/38 [00:11<00:00,  3.83it/s]\n",
      "/Users/jocelyn/Documents/forms/ml_framework/venv/lib/python3.7/site-packages/sklearn/metrics/ranking.py:528: RuntimeWarning: invalid value encountered in true_divide\n",
      "  recall = tps / tps[-1]\n",
      "  0%|          | 0/38 [00:00<?, ?it/s]"
     ]
    },
    {
     "name": "stdout",
     "output_type": "stream",
     "text": [
      "Epoch 0, train_loss=4.020679925617419, val_loss=3.863607479975774 \n",
      " val_metrics={'accuracy': 0.0, 'PR-AUC': nan}\n"
     ]
    },
    {
     "name": "stderr",
     "output_type": "stream",
     "text": [
      "100%|██████████| 38/38 [00:11<00:00,  3.77it/s]\n",
      "  0%|          | 0/38 [00:00<?, ?it/s]"
     ]
    },
    {
     "name": "stdout",
     "output_type": "stream",
     "text": [
      "Epoch 1, train_loss=3.7862254130212882, val_loss=3.413567231251643 \n",
      " val_metrics={'accuracy': 0.0, 'PR-AUC': nan}\n"
     ]
    },
    {
     "name": "stderr",
     "output_type": "stream",
     "text": [
      "100%|██████████| 38/38 [00:12<00:00,  3.68it/s]\n",
      "  0%|          | 0/38 [00:00<?, ?it/s]"
     ]
    },
    {
     "name": "stdout",
     "output_type": "stream",
     "text": [
      "Epoch 2, train_loss=3.4110304493653145, val_loss=3.2076846086061916 \n",
      " val_metrics={'accuracy': 0.0, 'PR-AUC': nan}\n"
     ]
    },
    {
     "name": "stderr",
     "output_type": "stream",
     "text": [
      "100%|██████████| 38/38 [00:12<00:00,  3.60it/s]\n",
      "  0%|          | 0/38 [00:00<?, ?it/s]"
     ]
    },
    {
     "name": "stdout",
     "output_type": "stream",
     "text": [
      "Epoch 3, train_loss=3.174034099829824, val_loss=2.901814680833083 \n",
      " val_metrics={'accuracy': 0.0, 'PR-AUC': nan}\n"
     ]
    },
    {
     "name": "stderr",
     "output_type": "stream",
     "text": [
      "100%|██████████| 38/38 [00:12<00:00,  3.46it/s]\n",
      "  0%|          | 0/38 [00:00<?, ?it/s]"
     ]
    },
    {
     "name": "stdout",
     "output_type": "stream",
     "text": [
      "Epoch 4, train_loss=2.911397419477764, val_loss=2.696589763347919 \n",
      " val_metrics={'accuracy': 0.0, 'PR-AUC': nan}\n"
     ]
    },
    {
     "name": "stderr",
     "output_type": "stream",
     "text": [
      "100%|██████████| 38/38 [00:12<00:00,  3.73it/s]\n",
      "  0%|          | 0/38 [00:00<?, ?it/s]"
     ]
    },
    {
     "name": "stdout",
     "output_type": "stream",
     "text": [
      "Epoch 5, train_loss=2.716479652806332, val_loss=2.4251108903151293 \n",
      " val_metrics={'accuracy': 0.0, 'PR-AUC': nan}\n"
     ]
    },
    {
     "name": "stderr",
     "output_type": "stream",
     "text": [
      "100%|██████████| 38/38 [00:11<00:00,  3.79it/s]\n",
      "  0%|          | 0/38 [00:00<?, ?it/s]"
     ]
    },
    {
     "name": "stdout",
     "output_type": "stream",
     "text": [
      "Epoch 6, train_loss=2.486576425401788, val_loss=2.2766320888812723 \n",
      " val_metrics={'accuracy': 0.0, 'PR-AUC': nan}\n"
     ]
    },
    {
     "name": "stderr",
     "output_type": "stream",
     "text": [
      "100%|██████████| 38/38 [00:11<00:00,  3.78it/s]\n",
      "  0%|          | 0/38 [00:00<?, ?it/s]"
     ]
    },
    {
     "name": "stdout",
     "output_type": "stream",
     "text": [
      "Epoch 7, train_loss=2.3403186107936658, val_loss=2.2319948214751024 \n",
      " val_metrics={'accuracy': 0.0, 'PR-AUC': nan}\n"
     ]
    },
    {
     "name": "stderr",
     "output_type": "stream",
     "text": [
      "100%|██████████| 38/38 [00:11<00:00,  3.71it/s]\n",
      "  0%|          | 0/38 [00:00<?, ?it/s]"
     ]
    },
    {
     "name": "stdout",
     "output_type": "stream",
     "text": [
      "Epoch 8, train_loss=2.1605849046456185, val_loss=2.1570631724137526 \n",
      " val_metrics={'accuracy': 0.0, 'PR-AUC': nan}\n"
     ]
    },
    {
     "name": "stderr",
     "output_type": "stream",
     "text": [
      "100%|██████████| 38/38 [00:11<00:00,  3.81it/s]\n",
      "  0%|          | 0/38 [00:00<?, ?it/s]"
     ]
    },
    {
     "name": "stdout",
     "output_type": "stream",
     "text": [
      "Epoch 9, train_loss=1.9206362147080271, val_loss=1.8590282385165875 \n",
      " val_metrics={'accuracy': 0.0, 'PR-AUC': nan}\n"
     ]
    },
    {
     "name": "stderr",
     "output_type": "stream",
     "text": [
      "100%|██████████| 38/38 [00:11<00:00,  3.81it/s]\n",
      "  0%|          | 0/38 [00:00<?, ?it/s]"
     ]
    },
    {
     "name": "stdout",
     "output_type": "stream",
     "text": [
      "Epoch 10, train_loss=1.6737481418408846, val_loss=1.6425869831672082 \n",
      " val_metrics={'accuracy': 0.05025125628140704, 'PR-AUC': 0.08643093215786654}\n"
     ]
    },
    {
     "name": "stderr",
     "output_type": "stream",
     "text": [
      "100%|██████████| 38/38 [00:11<00:00,  3.78it/s]\n",
      "  0%|          | 0/38 [00:00<?, ?it/s]"
     ]
    },
    {
     "name": "stdout",
     "output_type": "stream",
     "text": [
      "Epoch 11, train_loss=1.5108925104141235, val_loss=1.3467541199464064 \n",
      " val_metrics={'accuracy': 0.0, 'PR-AUC': nan}\n"
     ]
    },
    {
     "name": "stderr",
     "output_type": "stream",
     "text": [
      "100%|██████████| 38/38 [00:11<00:00,  3.81it/s]\n",
      "  0%|          | 0/38 [00:00<?, ?it/s]"
     ]
    },
    {
     "name": "stdout",
     "output_type": "stream",
     "text": [
      "Epoch 12, train_loss=1.4515507346705387, val_loss=1.880582571029663 \n",
      " val_metrics={'accuracy': 0.0, 'PR-AUC': nan}\n"
     ]
    },
    {
     "name": "stderr",
     "output_type": "stream",
     "text": [
      "100%|██████████| 38/38 [00:11<00:00,  3.84it/s]\n",
      "  0%|          | 0/38 [00:00<?, ?it/s]"
     ]
    },
    {
     "name": "stdout",
     "output_type": "stream",
     "text": [
      "Epoch 13, train_loss=1.5173128749194897, val_loss=1.3065524192956777 \n",
      " val_metrics={'accuracy': 0.010050251256281407, 'PR-AUC': 0.011826137640685016}\n"
     ]
    },
    {
     "name": "stderr",
     "output_type": "stream",
     "text": [
      "100%|██████████| 38/38 [00:11<00:00,  3.81it/s]\n",
      "  0%|          | 0/38 [00:00<?, ?it/s]"
     ]
    },
    {
     "name": "stdout",
     "output_type": "stream",
     "text": [
      "Epoch 14, train_loss=1.3149274869969017, val_loss=0.9521360397338867 \n",
      " val_metrics={'accuracy': 0.020100502512562814, 'PR-AUC': 0.02433197672472046}\n"
     ]
    },
    {
     "name": "stderr",
     "output_type": "stream",
     "text": [
      "100%|██████████| 38/38 [00:11<00:00,  3.84it/s]\n",
      "  0%|          | 0/38 [00:00<?, ?it/s]"
     ]
    },
    {
     "name": "stdout",
     "output_type": "stream",
     "text": [
      "Epoch 15, train_loss=1.1429197725496794, val_loss=0.8010535469421973 \n",
      " val_metrics={'accuracy': 0.16080402010050251, 'PR-AUC': 0.2436274724374063}\n"
     ]
    },
    {
     "name": "stderr",
     "output_type": "stream",
     "text": [
      "100%|██████████| 38/38 [00:11<00:00,  3.91it/s]\n",
      "  0%|          | 0/38 [00:00<?, ?it/s]"
     ]
    },
    {
     "name": "stdout",
     "output_type": "stream",
     "text": [
      "Epoch 16, train_loss=1.0698659357271696, val_loss=0.7337298209850605 \n",
      " val_metrics={'accuracy': 0.0, 'PR-AUC': nan}\n"
     ]
    },
    {
     "name": "stderr",
     "output_type": "stream",
     "text": [
      "100%|██████████| 38/38 [00:11<00:00,  3.88it/s]\n",
      "  0%|          | 0/38 [00:00<?, ?it/s]"
     ]
    },
    {
     "name": "stdout",
     "output_type": "stream",
     "text": [
      "Epoch 17, train_loss=1.0338875416078066, val_loss=0.623090230501615 \n",
      " val_metrics={'accuracy': 0.40703517587939697, 'PR-AUC': 0.5579110682842312}\n"
     ]
    },
    {
     "name": "stderr",
     "output_type": "stream",
     "text": [
      "100%|██████████| 38/38 [00:11<00:00,  3.87it/s]\n",
      "  0%|          | 0/38 [00:00<?, ?it/s]"
     ]
    },
    {
     "name": "stdout",
     "output_type": "stream",
     "text": [
      "Epoch 18, train_loss=1.011571024593554, val_loss=0.8820221836750324 \n",
      " val_metrics={'accuracy': 0.25125628140703515, 'PR-AUC': 0.628397805236868}\n"
     ]
    },
    {
     "name": "stderr",
     "output_type": "stream",
     "text": [
      "100%|██████████| 38/38 [00:11<00:00,  3.93it/s]\n",
      "  0%|          | 0/38 [00:00<?, ?it/s]"
     ]
    },
    {
     "name": "stdout",
     "output_type": "stream",
     "text": [
      "Epoch 19, train_loss=0.9789117166870519, val_loss=0.7475616106620202 \n",
      " val_metrics={'accuracy': 0.3869346733668342, 'PR-AUC': 0.685697985086255}\n"
     ]
    },
    {
     "name": "stderr",
     "output_type": "stream",
     "text": [
      "100%|██████████| 38/38 [00:11<00:00,  3.59it/s]\n",
      "  0%|          | 0/38 [00:00<?, ?it/s]"
     ]
    },
    {
     "name": "stdout",
     "output_type": "stream",
     "text": [
      "Epoch 20, train_loss=0.9761053166891399, val_loss=0.6716596071536725 \n",
      " val_metrics={'accuracy': 0.5829145728643216, 'PR-AUC': 0.8507197615844343}\n"
     ]
    },
    {
     "name": "stderr",
     "output_type": "stream",
     "text": [
      "100%|██████████| 38/38 [00:11<00:00,  3.82it/s]\n",
      "  0%|          | 0/38 [00:00<?, ?it/s]"
     ]
    },
    {
     "name": "stdout",
     "output_type": "stream",
     "text": [
      "Epoch 21, train_loss=0.9239878168231562, val_loss=0.6764198587490962 \n",
      " val_metrics={'accuracy': 0.5728643216080402, 'PR-AUC': 0.9003000639504671}\n"
     ]
    },
    {
     "name": "stderr",
     "output_type": "stream",
     "text": [
      "100%|██████████| 38/38 [00:11<00:00,  3.79it/s]\n",
      "  0%|          | 0/38 [00:00<?, ?it/s]"
     ]
    },
    {
     "name": "stdout",
     "output_type": "stream",
     "text": [
      "Epoch 22, train_loss=0.8150581356726194, val_loss=0.5004224364574139 \n",
      " val_metrics={'accuracy': 0.7939698492462312, 'PR-AUC': 0.9748906357795093}\n"
     ]
    },
    {
     "name": "stderr",
     "output_type": "stream",
     "text": [
      "100%|██████████| 38/38 [00:11<00:00,  3.78it/s]\n",
      "  0%|          | 0/38 [00:00<?, ?it/s]"
     ]
    },
    {
     "name": "stdout",
     "output_type": "stream",
     "text": [
      "Epoch 23, train_loss=0.7673571101929012, val_loss=0.34664662182331085 \n",
      " val_metrics={'accuracy': 0.8994974874371859, 'PR-AUC': 0.9870346424183067}\n"
     ]
    },
    {
     "name": "stderr",
     "output_type": "stream",
     "text": [
      "100%|██████████| 38/38 [00:11<00:00,  3.78it/s]\n",
      "  0%|          | 0/38 [00:00<?, ?it/s]"
     ]
    },
    {
     "name": "stdout",
     "output_type": "stream",
     "text": [
      "Epoch 24, train_loss=0.686401198569097, val_loss=0.37658533683189976 \n",
      " val_metrics={'accuracy': 0.6381909547738693, 'PR-AUC': 0.9666432687638823}\n"
     ]
    },
    {
     "name": "stderr",
     "output_type": "stream",
     "text": [
      "100%|██████████| 38/38 [00:11<00:00,  3.85it/s]\n",
      "  0%|          | 0/38 [00:00<?, ?it/s]"
     ]
    },
    {
     "name": "stdout",
     "output_type": "stream",
     "text": [
      "Epoch 25, train_loss=0.6570141707596026, val_loss=0.38022073874106777 \n",
      " val_metrics={'accuracy': 0.8391959798994975, 'PR-AUC': 0.984264599730214}\n"
     ]
    },
    {
     "name": "stderr",
     "output_type": "stream",
     "text": [
      "100%|██████████| 38/38 [00:12<00:00,  3.86it/s]\n",
      "  0%|          | 0/38 [00:00<?, ?it/s]"
     ]
    },
    {
     "name": "stdout",
     "output_type": "stream",
     "text": [
      "Epoch 26, train_loss=0.687515925419958, val_loss=0.40830378463635075 \n",
      " val_metrics={'accuracy': 0.6733668341708543, 'PR-AUC': 0.9676638770336601}\n"
     ]
    },
    {
     "name": "stderr",
     "output_type": "stream",
     "text": [
      "100%|██████████| 38/38 [00:11<00:00,  3.75it/s]\n",
      "  0%|          | 0/38 [00:00<?, ?it/s]"
     ]
    },
    {
     "name": "stdout",
     "output_type": "stream",
     "text": [
      "Epoch 27, train_loss=0.5755969215380518, val_loss=0.27817363234666675 \n",
      " val_metrics={'accuracy': 0.9396984924623115, 'PR-AUC': 0.995242109049673}\n"
     ]
    },
    {
     "name": "stderr",
     "output_type": "stream",
     "text": [
      "100%|██████████| 38/38 [00:11<00:00,  3.75it/s]\n",
      "  0%|          | 0/38 [00:00<?, ?it/s]"
     ]
    },
    {
     "name": "stdout",
     "output_type": "stream",
     "text": [
      "Epoch 28, train_loss=0.5453686588688901, val_loss=0.25109205738856244 \n",
      " val_metrics={'accuracy': 0.9346733668341709, 'PR-AUC': 0.996046027220834}\n"
     ]
    },
    {
     "name": "stderr",
     "output_type": "stream",
     "text": [
      "100%|██████████| 38/38 [00:11<00:00,  3.77it/s]\n",
      "  0%|          | 0/38 [00:00<?, ?it/s]"
     ]
    },
    {
     "name": "stdout",
     "output_type": "stream",
     "text": [
      "Epoch 29, train_loss=0.543946172845991, val_loss=0.2902215759341533 \n",
      " val_metrics={'accuracy': 0.9095477386934674, 'PR-AUC': 0.9956473597385086}\n"
     ]
    },
    {
     "name": "stderr",
     "output_type": "stream",
     "text": [
      "100%|██████████| 38/38 [00:11<00:00,  3.79it/s]\n",
      "  0%|          | 0/38 [00:00<?, ?it/s]"
     ]
    },
    {
     "name": "stdout",
     "output_type": "stream",
     "text": [
      "Epoch 30, train_loss=0.4717375675314351, val_loss=0.25650169585759824 \n",
      " val_metrics={'accuracy': 0.9396984924623115, 'PR-AUC': 0.9962035511751348}\n"
     ]
    },
    {
     "name": "stderr",
     "output_type": "stream",
     "text": [
      "100%|██████████| 38/38 [00:11<00:00,  3.77it/s]\n",
      "  0%|          | 0/38 [00:00<?, ?it/s]"
     ]
    },
    {
     "name": "stdout",
     "output_type": "stream",
     "text": [
      "Epoch 31, train_loss=0.4823720564967708, val_loss=0.2467375540962586 \n",
      " val_metrics={'accuracy': 0.949748743718593, 'PR-AUC': 0.9952283888545439}\n"
     ]
    },
    {
     "name": "stderr",
     "output_type": "stream",
     "text": [
      "100%|██████████| 38/38 [00:11<00:00,  3.86it/s]\n",
      "  0%|          | 0/38 [00:00<?, ?it/s]"
     ]
    },
    {
     "name": "stdout",
     "output_type": "stream",
     "text": [
      "Epoch 32, train_loss=0.4609006537418616, val_loss=0.2092741126051316 \n",
      " val_metrics={'accuracy': 0.9346733668341709, 'PR-AUC': 0.9942807307275099}\n"
     ]
    },
    {
     "name": "stderr",
     "output_type": "stream",
     "text": [
      "100%|██████████| 38/38 [00:11<00:00,  3.77it/s]\n",
      "  0%|          | 0/38 [00:00<?, ?it/s]"
     ]
    },
    {
     "name": "stdout",
     "output_type": "stream",
     "text": [
      "Epoch 33, train_loss=0.44750759868245377, val_loss=0.19801794135799775 \n",
      " val_metrics={'accuracy': 0.9447236180904522, 'PR-AUC': 0.9913449713525894}\n"
     ]
    },
    {
     "name": "stderr",
     "output_type": "stream",
     "text": [
      "100%|██████████| 38/38 [00:13<00:00,  3.19it/s]\n",
      "  0%|          | 0/38 [00:00<?, ?it/s]"
     ]
    },
    {
     "name": "stdout",
     "output_type": "stream",
     "text": [
      "Epoch 34, train_loss=0.4177935901833208, val_loss=0.16558166707937533 \n",
      " val_metrics={'accuracy': 0.9597989949748744, 'PR-AUC': 0.9942353221659606}\n"
     ]
    },
    {
     "name": "stderr",
     "output_type": "stream",
     "text": [
      "100%|██████████| 38/38 [00:11<00:00,  3.82it/s]\n",
      "  0%|          | 0/38 [00:00<?, ?it/s]"
     ]
    },
    {
     "name": "stdout",
     "output_type": "stream",
     "text": [
      "Epoch 35, train_loss=0.4524924974692495, val_loss=0.17053857245124304 \n",
      " val_metrics={'accuracy': 0.9547738693467337, 'PR-AUC': 0.9959023450024518}\n"
     ]
    },
    {
     "name": "stderr",
     "output_type": "stream",
     "text": [
      "100%|██████████| 38/38 [00:11<00:00,  3.85it/s]\n",
      "  0%|          | 0/38 [00:00<?, ?it/s]"
     ]
    },
    {
     "name": "stdout",
     "output_type": "stream",
     "text": [
      "Epoch 36, train_loss=0.5990002951339671, val_loss=0.358616190461012 \n",
      " val_metrics={'accuracy': 0.8391959798994975, 'PR-AUC': 0.9873022310161459}\n"
     ]
    },
    {
     "name": "stderr",
     "output_type": "stream",
     "text": [
      "100%|██████████| 38/38 [00:11<00:00,  3.62it/s]\n",
      "  0%|          | 0/38 [00:00<?, ?it/s]"
     ]
    },
    {
     "name": "stdout",
     "output_type": "stream",
     "text": [
      "Epoch 37, train_loss=0.5642474478012637, val_loss=0.2187313365821655 \n",
      " val_metrics={'accuracy': 0.9447236180904522, 'PR-AUC': 0.9948300764336646}\n"
     ]
    },
    {
     "name": "stderr",
     "output_type": "stream",
     "text": [
      "100%|██████████| 38/38 [00:11<00:00,  3.94it/s]\n",
      "  0%|          | 0/38 [00:00<?, ?it/s]"
     ]
    },
    {
     "name": "stdout",
     "output_type": "stream",
     "text": [
      "Epoch 38, train_loss=0.3984037967104661, val_loss=0.17860563815786287 \n",
      " val_metrics={'accuracy': 0.9547738693467337, 'PR-AUC': 0.9996382878452679}\n"
     ]
    },
    {
     "name": "stderr",
     "output_type": "stream",
     "text": [
      "100%|██████████| 38/38 [00:11<00:00,  3.94it/s]\n",
      "  0%|          | 0/38 [00:00<?, ?it/s]"
     ]
    },
    {
     "name": "stdout",
     "output_type": "stream",
     "text": [
      "Epoch 39, train_loss=0.3834183974877784, val_loss=0.2024607237141866 \n",
      " val_metrics={'accuracy': 0.949748743718593, 'PR-AUC': 0.9935647752355224}\n"
     ]
    },
    {
     "name": "stderr",
     "output_type": "stream",
     "text": [
      "100%|██████████| 38/38 [00:11<00:00,  3.91it/s]\n",
      "  0%|          | 0/38 [00:00<?, ?it/s]"
     ]
    },
    {
     "name": "stdout",
     "output_type": "stream",
     "text": [
      "Epoch 40, train_loss=0.49083013812962334, val_loss=0.23910924849601892 \n",
      " val_metrics={'accuracy': 0.9095477386934674, 'PR-AUC': 0.9973976819954886}\n"
     ]
    },
    {
     "name": "stderr",
     "output_type": "stream",
     "text": [
      "100%|██████████| 38/38 [00:11<00:00,  3.68it/s]\n",
      "  0%|          | 0/38 [00:00<?, ?it/s]"
     ]
    },
    {
     "name": "stdout",
     "output_type": "stream",
     "text": [
      "Epoch 41, train_loss=0.5312504140954268, val_loss=0.18458280368493155 \n",
      " val_metrics={'accuracy': 0.9396984924623115, 'PR-AUC': 0.9987312237505428}\n"
     ]
    },
    {
     "name": "stderr",
     "output_type": "stream",
     "text": [
      "100%|██████████| 38/38 [00:11<00:00,  3.82it/s]\n",
      "  0%|          | 0/38 [00:00<?, ?it/s]"
     ]
    },
    {
     "name": "stdout",
     "output_type": "stream",
     "text": [
      "Epoch 42, train_loss=0.3363194630334252, val_loss=0.2140910909152948 \n",
      " val_metrics={'accuracy': 0.9296482412060302, 'PR-AUC': 0.9994805436919276}\n"
     ]
    },
    {
     "name": "stderr",
     "output_type": "stream",
     "text": [
      "100%|██████████| 38/38 [00:11<00:00,  3.91it/s]\n",
      "  0%|          | 0/38 [00:00<?, ?it/s]"
     ]
    },
    {
     "name": "stdout",
     "output_type": "stream",
     "text": [
      "Epoch 43, train_loss=0.3331825705735307, val_loss=0.19136357049529368 \n",
      " val_metrics={'accuracy': 0.9447236180904522, 'PR-AUC': 0.9992551804847822}\n"
     ]
    },
    {
     "name": "stderr",
     "output_type": "stream",
     "text": [
      "100%|██████████| 38/38 [00:11<00:00,  3.97it/s]\n",
      "  0%|          | 0/38 [00:00<?, ?it/s]"
     ]
    },
    {
     "name": "stdout",
     "output_type": "stream",
     "text": [
      "Epoch 44, train_loss=0.34418766337789986, val_loss=0.19390891664303267 \n",
      " val_metrics={'accuracy': 0.949748743718593, 'PR-AUC': 0.9979308755921201}\n"
     ]
    },
    {
     "name": "stderr",
     "output_type": "stream",
     "text": [
      "100%|██████████| 38/38 [00:12<00:00,  3.83it/s]\n",
      "  0%|          | 0/38 [00:00<?, ?it/s]"
     ]
    },
    {
     "name": "stdout",
     "output_type": "stream",
     "text": [
      "Epoch 45, train_loss=0.2982404241828542, val_loss=0.19168514113586682 \n",
      " val_metrics={'accuracy': 0.9396984924623115, 'PR-AUC': 0.9996865437665963}\n"
     ]
    },
    {
     "name": "stderr",
     "output_type": "stream",
     "text": [
      "100%|██████████| 38/38 [00:11<00:00,  3.82it/s]\n",
      "  0%|          | 0/38 [00:00<?, ?it/s]"
     ]
    },
    {
     "name": "stdout",
     "output_type": "stream",
     "text": [
      "Epoch 46, train_loss=0.2657590792759469, val_loss=0.1785659808665514 \n",
      " val_metrics={'accuracy': 0.9447236180904522, 'PR-AUC': 0.9994769312489291}\n"
     ]
    },
    {
     "name": "stderr",
     "output_type": "stream",
     "text": [
      "100%|██████████| 38/38 [00:11<00:00,  3.85it/s]\n",
      "  0%|          | 0/38 [00:00<?, ?it/s]"
     ]
    },
    {
     "name": "stdout",
     "output_type": "stream",
     "text": [
      "Epoch 47, train_loss=0.2924427209716094, val_loss=0.14242027456370684 \n",
      " val_metrics={'accuracy': 0.9396984924623115, 'PR-AUC': 0.9996334868004465}\n"
     ]
    },
    {
     "name": "stderr",
     "output_type": "stream",
     "text": [
      "100%|██████████| 38/38 [00:11<00:00,  3.79it/s]\n",
      "  0%|          | 0/38 [00:00<?, ?it/s]"
     ]
    },
    {
     "name": "stdout",
     "output_type": "stream",
     "text": [
      "Epoch 48, train_loss=0.3155636717810443, val_loss=0.16306391458671826 \n",
      " val_metrics={'accuracy': 0.949748743718593, 'PR-AUC': 0.9996161278731169}\n"
     ]
    },
    {
     "name": "stderr",
     "output_type": "stream",
     "text": [
      "100%|██████████| 38/38 [00:11<00:00,  3.81it/s]\n",
      "  0%|          | 0/38 [00:00<?, ?it/s]"
     ]
    },
    {
     "name": "stdout",
     "output_type": "stream",
     "text": [
      "Epoch 49, train_loss=0.2271831107178801, val_loss=0.14616547847309938 \n",
      " val_metrics={'accuracy': 0.9447236180904522, 'PR-AUC': 1.0}\n"
     ]
    },
    {
     "name": "stderr",
     "output_type": "stream",
     "text": [
      "100%|██████████| 38/38 [00:11<00:00,  3.86it/s]\n",
      "  0%|          | 0/38 [00:00<?, ?it/s]"
     ]
    },
    {
     "name": "stdout",
     "output_type": "stream",
     "text": [
      "Epoch 50, train_loss=0.2746210745290706, val_loss=0.21094600211542386 \n",
      " val_metrics={'accuracy': 0.9346733668341709, 'PR-AUC': 0.9996351265441772}\n"
     ]
    },
    {
     "name": "stderr",
     "output_type": "stream",
     "text": [
      "100%|██████████| 38/38 [00:11<00:00,  3.84it/s]\n",
      "  0%|          | 0/38 [00:00<?, ?it/s]"
     ]
    },
    {
     "name": "stdout",
     "output_type": "stream",
     "text": [
      "Epoch 51, train_loss=0.2826006457601723, val_loss=0.19463542820169374 \n",
      " val_metrics={'accuracy': 0.949748743718593, 'PR-AUC': 0.9998367802491515}\n"
     ]
    },
    {
     "name": "stderr",
     "output_type": "stream",
     "text": [
      "100%|██████████| 38/38 [00:11<00:00,  3.79it/s]\n",
      "  0%|          | 0/38 [00:00<?, ?it/s]"
     ]
    },
    {
     "name": "stdout",
     "output_type": "stream",
     "text": [
      "Epoch 52, train_loss=0.33303512672060415, val_loss=0.18096442950459626 \n",
      " val_metrics={'accuracy': 0.9547738693467337, 'PR-AUC': 0.9999172578051556}\n"
     ]
    },
    {
     "name": "stderr",
     "output_type": "stream",
     "text": [
      "100%|██████████| 38/38 [00:11<00:00,  3.91it/s]\n",
      "  0%|          | 0/38 [00:00<?, ?it/s]"
     ]
    },
    {
     "name": "stdout",
     "output_type": "stream",
     "text": [
      "Epoch 53, train_loss=0.2799496010534073, val_loss=0.20032446344311422 \n",
      " val_metrics={'accuracy': 0.9296482412060302, 'PR-AUC': 0.9957667224611555}\n"
     ]
    },
    {
     "name": "stderr",
     "output_type": "stream",
     "text": [
      "100%|██████████| 38/38 [00:11<00:00,  3.90it/s]\n",
      "  0%|          | 0/38 [00:00<?, ?it/s]"
     ]
    },
    {
     "name": "stdout",
     "output_type": "stream",
     "text": [
      "Epoch 54, train_loss=0.3488414375797698, val_loss=0.20689648762345314 \n",
      " val_metrics={'accuracy': 0.914572864321608, 'PR-AUC': 0.9985155524374619}\n"
     ]
    },
    {
     "name": "stderr",
     "output_type": "stream",
     "text": [
      "100%|██████████| 38/38 [00:11<00:00,  3.83it/s]\n",
      "  0%|          | 0/38 [00:00<?, ?it/s]"
     ]
    },
    {
     "name": "stdout",
     "output_type": "stream",
     "text": [
      "Epoch 55, train_loss=0.3766334503889084, val_loss=0.12116762064397335 \n",
      " val_metrics={'accuracy': 0.949748743718593, 'PR-AUC': 0.9996599215682462}\n"
     ]
    },
    {
     "name": "stderr",
     "output_type": "stream",
     "text": [
      "100%|██████████| 38/38 [00:11<00:00,  3.83it/s]\n",
      "  0%|          | 0/38 [00:00<?, ?it/s]"
     ]
    },
    {
     "name": "stdout",
     "output_type": "stream",
     "text": [
      "Epoch 56, train_loss=0.305621082943521, val_loss=0.12915933046203393 \n",
      " val_metrics={'accuracy': 0.9447236180904522, 'PR-AUC': 0.9984589322187879}\n"
     ]
    },
    {
     "name": "stderr",
     "output_type": "stream",
     "text": [
      "100%|██████████| 38/38 [00:11<00:00,  3.83it/s]\n",
      "  0%|          | 0/38 [00:00<?, ?it/s]"
     ]
    },
    {
     "name": "stdout",
     "output_type": "stream",
     "text": [
      "Epoch 57, train_loss=0.25740904978623513, val_loss=0.15616775633623967 \n",
      " val_metrics={'accuracy': 0.9396984924623115, 'PR-AUC': 0.9979146458739845}\n"
     ]
    },
    {
     "name": "stderr",
     "output_type": "stream",
     "text": [
      "100%|██████████| 38/38 [00:11<00:00,  3.87it/s]\n",
      "  0%|          | 0/38 [00:00<?, ?it/s]"
     ]
    },
    {
     "name": "stdout",
     "output_type": "stream",
     "text": [
      "Epoch 58, train_loss=0.21644164827701293, val_loss=0.12498880779513946 \n",
      " val_metrics={'accuracy': 0.949748743718593, 'PR-AUC': 0.9997234000738121}\n"
     ]
    },
    {
     "name": "stderr",
     "output_type": "stream",
     "text": [
      "100%|██████████| 38/38 [00:11<00:00,  3.98it/s]\n",
      "  0%|          | 0/38 [00:00<?, ?it/s]"
     ]
    },
    {
     "name": "stdout",
     "output_type": "stream",
     "text": [
      "Epoch 59, train_loss=0.1857109476665133, val_loss=0.1050442627702768 \n",
      " val_metrics={'accuracy': 0.9547738693467337, 'PR-AUC': 0.9998094427855387}\n"
     ]
    },
    {
     "name": "stderr",
     "output_type": "stream",
     "text": [
      "100%|██████████| 38/38 [00:11<00:00,  3.89it/s]\n",
      "  0%|          | 0/38 [00:00<?, ?it/s]"
     ]
    },
    {
     "name": "stdout",
     "output_type": "stream",
     "text": [
      "Epoch 60, train_loss=0.21542727447261936, val_loss=0.11153238639235497 \n",
      " val_metrics={'accuracy': 0.9597989949748744, 'PR-AUC': 0.9998913436676293}\n"
     ]
    },
    {
     "name": "stderr",
     "output_type": "stream",
     "text": [
      "100%|██████████| 38/38 [00:11<00:00,  3.88it/s]\n",
      "  0%|          | 0/38 [00:00<?, ?it/s]"
     ]
    },
    {
     "name": "stdout",
     "output_type": "stream",
     "text": [
      "Epoch 61, train_loss=0.23806132405604186, val_loss=0.15071693091438368 \n",
      " val_metrics={'accuracy': 0.9547738693467337, 'PR-AUC': 0.9927766997878145}\n"
     ]
    },
    {
     "name": "stderr",
     "output_type": "stream",
     "text": [
      "100%|██████████| 38/38 [00:11<00:00,  3.89it/s]\n",
      "  0%|          | 0/38 [00:00<?, ?it/s]"
     ]
    },
    {
     "name": "stdout",
     "output_type": "stream",
     "text": [
      "Epoch 62, train_loss=0.48312876422546414, val_loss=0.34406582896526045 \n",
      " val_metrics={'accuracy': 0.864321608040201, 'PR-AUC': 0.9947673030157003}\n"
     ]
    },
    {
     "name": "stderr",
     "output_type": "stream",
     "text": [
      "100%|██████████| 38/38 [00:11<00:00,  3.87it/s]\n",
      "  0%|          | 0/38 [00:00<?, ?it/s]"
     ]
    },
    {
     "name": "stdout",
     "output_type": "stream",
     "text": [
      "Epoch 63, train_loss=0.3654033310319248, val_loss=0.21909067034721375 \n",
      " val_metrics={'accuracy': 0.9246231155778895, 'PR-AUC': 0.9989894620217191}\n"
     ]
    },
    {
     "name": "stderr",
     "output_type": "stream",
     "text": [
      "100%|██████████| 38/38 [00:11<00:00,  3.89it/s]\n",
      "  0%|          | 0/38 [00:00<?, ?it/s]"
     ]
    },
    {
     "name": "stdout",
     "output_type": "stream",
     "text": [
      "Epoch 64, train_loss=0.2236533586524035, val_loss=0.0890234038233757 \n",
      " val_metrics={'accuracy': 0.964824120603015, 'PR-AUC': 0.9997314783600272}\n"
     ]
    },
    {
     "name": "stderr",
     "output_type": "stream",
     "text": [
      "100%|██████████| 38/38 [00:11<00:00,  3.93it/s]\n",
      "  0%|          | 0/38 [00:00<?, ?it/s]"
     ]
    },
    {
     "name": "stdout",
     "output_type": "stream",
     "text": [
      "Epoch 65, train_loss=0.2522982077575044, val_loss=0.146725294395135 \n",
      " val_metrics={'accuracy': 0.949748743718593, 'PR-AUC': 0.998153103206812}\n"
     ]
    },
    {
     "name": "stderr",
     "output_type": "stream",
     "text": [
      "100%|██████████| 38/38 [00:11<00:00,  3.73it/s]\n",
      "  0%|          | 0/38 [00:00<?, ?it/s]"
     ]
    },
    {
     "name": "stdout",
     "output_type": "stream",
     "text": [
      "Epoch 66, train_loss=0.24118816617288089, val_loss=0.15751469017078096 \n",
      " val_metrics={'accuracy': 0.949748743718593, 'PR-AUC': 0.9970999632224251}\n"
     ]
    },
    {
     "name": "stderr",
     "output_type": "stream",
     "text": [
      "100%|██████████| 38/38 [00:11<00:00,  3.86it/s]\n",
      "  0%|          | 0/38 [00:00<?, ?it/s]"
     ]
    },
    {
     "name": "stdout",
     "output_type": "stream",
     "text": [
      "Epoch 67, train_loss=0.21916569887023224, val_loss=0.16400826134933874 \n",
      " val_metrics={'accuracy': 0.9547738693467337, 'PR-AUC': 0.9995168979419993}\n"
     ]
    },
    {
     "name": "stderr",
     "output_type": "stream",
     "text": [
      "100%|██████████| 38/38 [00:11<00:00,  3.92it/s]\n",
      "  0%|          | 0/38 [00:00<?, ?it/s]"
     ]
    },
    {
     "name": "stdout",
     "output_type": "stream",
     "text": [
      "Epoch 68, train_loss=0.22256387613321604, val_loss=0.22133855894207954 \n",
      " val_metrics={'accuracy': 0.8944723618090452, 'PR-AUC': 0.9941528156644688}\n"
     ]
    },
    {
     "name": "stderr",
     "output_type": "stream",
     "text": [
      "100%|██████████| 38/38 [00:11<00:00,  3.91it/s]\n",
      "  0%|          | 0/38 [00:00<?, ?it/s]"
     ]
    },
    {
     "name": "stdout",
     "output_type": "stream",
     "text": [
      "Epoch 69, train_loss=0.21014848969092495, val_loss=0.1514923355470483 \n",
      " val_metrics={'accuracy': 0.9447236180904522, 'PR-AUC': 0.999197127013229}\n"
     ]
    },
    {
     "name": "stderr",
     "output_type": "stream",
     "text": [
      "100%|██████████| 38/38 [00:11<00:00,  3.87it/s]\n",
      "  0%|          | 0/38 [00:00<?, ?it/s]"
     ]
    },
    {
     "name": "stdout",
     "output_type": "stream",
     "text": [
      "Epoch 70, train_loss=0.16568849480857975, val_loss=0.15100225021776098 \n",
      " val_metrics={'accuracy': 0.9597989949748744, 'PR-AUC': 0.9998337756727292}\n"
     ]
    },
    {
     "name": "stderr",
     "output_type": "stream",
     "text": [
      "100%|██████████| 38/38 [00:11<00:00,  3.75it/s]\n",
      "  0%|          | 0/38 [00:00<?, ?it/s]"
     ]
    },
    {
     "name": "stdout",
     "output_type": "stream",
     "text": [
      "Epoch 71, train_loss=0.15477165962128261, val_loss=0.11357853540147726 \n",
      " val_metrics={'accuracy': 0.964824120603015, 'PR-AUC': 0.9998100115996359}\n"
     ]
    },
    {
     "name": "stderr",
     "output_type": "stream",
     "text": [
      "100%|██████████| 38/38 [00:12<00:00,  3.54it/s]\n",
      "  0%|          | 0/38 [00:00<?, ?it/s]"
     ]
    },
    {
     "name": "stdout",
     "output_type": "stream",
     "text": [
      "Epoch 72, train_loss=0.17240932657334365, val_loss=0.1387439495525681 \n",
      " val_metrics={'accuracy': 0.9547738693467337, 'PR-AUC': 0.999676002568923}\n"
     ]
    },
    {
     "name": "stderr",
     "output_type": "stream",
     "text": [
      "100%|██████████| 38/38 [00:12<00:00,  3.70it/s]\n",
      "  0%|          | 0/38 [00:00<?, ?it/s]"
     ]
    },
    {
     "name": "stdout",
     "output_type": "stream",
     "text": [
      "Epoch 73, train_loss=0.18780522357280316, val_loss=0.12367969783596121 \n",
      " val_metrics={'accuracy': 0.9597989949748744, 'PR-AUC': 0.9999456037671016}\n"
     ]
    },
    {
     "name": "stderr",
     "output_type": "stream",
     "text": [
      "100%|██████████| 38/38 [00:12<00:00,  3.61it/s]\n",
      "  0%|          | 0/38 [00:00<?, ?it/s]"
     ]
    },
    {
     "name": "stdout",
     "output_type": "stream",
     "text": [
      "Epoch 74, train_loss=0.17733779392744364, val_loss=0.14428989503246087 \n",
      " val_metrics={'accuracy': 0.949748743718593, 'PR-AUC': 0.9994023693290262}\n"
     ]
    },
    {
     "name": "stderr",
     "output_type": "stream",
     "text": [
      "100%|██████████| 38/38 [00:11<00:00,  3.77it/s]\n",
      "  0%|          | 0/38 [00:00<?, ?it/s]"
     ]
    },
    {
     "name": "stdout",
     "output_type": "stream",
     "text": [
      "Epoch 75, train_loss=0.2342779228561803, val_loss=0.14405836200771424 \n",
      " val_metrics={'accuracy': 0.9547738693467337, 'PR-AUC': 0.999889336346663}\n"
     ]
    },
    {
     "name": "stderr",
     "output_type": "stream",
     "text": [
      "100%|██████████| 38/38 [00:11<00:00,  3.67it/s]\n",
      "  0%|          | 0/38 [00:00<?, ?it/s]"
     ]
    },
    {
     "name": "stdout",
     "output_type": "stream",
     "text": [
      "Epoch 76, train_loss=0.22882548200064584, val_loss=0.12366247606965211 \n",
      " val_metrics={'accuracy': 0.964824120603015, 'PR-AUC': 0.9999189689893786}\n"
     ]
    },
    {
     "name": "stderr",
     "output_type": "stream",
     "text": [
      "100%|██████████| 38/38 [00:11<00:00,  3.57it/s]\n",
      "  0%|          | 0/38 [00:00<?, ?it/s]"
     ]
    },
    {
     "name": "stdout",
     "output_type": "stream",
     "text": [
      "Epoch 77, train_loss=0.13964560458828745, val_loss=0.11801876575471117 \n",
      " val_metrics={'accuracy': 0.9597989949748744, 'PR-AUC': 0.9999999999999996}\n"
     ]
    },
    {
     "name": "stderr",
     "output_type": "stream",
     "text": [
      "100%|██████████| 38/38 [00:11<00:00,  3.72it/s]\n",
      "  0%|          | 0/38 [00:00<?, ?it/s]"
     ]
    },
    {
     "name": "stdout",
     "output_type": "stream",
     "text": [
      "Epoch 78, train_loss=0.14923559501767159, val_loss=0.1591277406192743 \n",
      " val_metrics={'accuracy': 0.949748743718593, 'PR-AUC': 0.9999720789333714}\n"
     ]
    },
    {
     "name": "stderr",
     "output_type": "stream",
     "text": [
      "100%|██████████| 38/38 [00:11<00:00,  3.74it/s]\n"
     ]
    },
    {
     "name": "stdout",
     "output_type": "stream",
     "text": [
      "Epoch 79, train_loss=0.1537209685009561, val_loss=0.14865137830090064 \n",
      " val_metrics={'accuracy': 0.949748743718593, 'PR-AUC': 1.0000000000000002}\n"
     ]
    }
   ],
   "source": [
    "from utils import train_model\n",
    "train_losses, val_losses, val_metrics = train_model(n_epochs, model, optimizer, train_loader, val_loader)"
   ]
  },
  {
   "cell_type": "code",
   "execution_count": 26,
   "id": "efa91124-3521-41f5-bfe1-d16091bc99b6",
   "metadata": {},
   "outputs": [
    {
     "data": {
      "image/png": "[encoded data removed]",
      "text/plain": [
       "<Figure size 432x288 with 1 Axes>"
      ]
     },
     "metadata": {
      "needs_background": "light"
     },
     "output_type": "display_data"
    }
   ],
   "source": [
    "import matplotlib.pyplot as plt\n",
    "plt.figure()\n",
    "plt.plot(train_losses, color='red', label=\"train\")\n",
    "plt.plot(val_losses, color='blue', label=\"validation\")\n",
    "plt.xlabel('n_epoch')\n",
    "plt.ylabel('cross_entropy_loss')\n",
    "plt.legend()\n",
    "plt.show()"
   ]
  },
  {
   "cell_type": "markdown",
   "id": "e28b97f1-a1a6-45da-8ca5-0a80ba900b49",
   "metadata": {},
   "source": [
    "# Best validation accuracy"
   ]
  },
  {
   "cell_type": "code",
   "execution_count": 27,
   "id": "e2ade5e3-9776-4647-823c-59d7ba579ce5",
   "metadata": {},
   "outputs": [
    {
     "data": {
      "text/plain": [
       "(64,\n",
       " 0.0890234038233757,\n",
       " {'accuracy': 0.964824120603015, 'PR-AUC': 0.9997314783600272})"
      ]
     },
     "execution_count": 27,
     "metadata": {},
     "output_type": "execute_result"
    }
   ],
   "source": [
    "best_step = np.argmin(val_losses[:80])\n",
    "model = torch.load(f'models/model_{best_step}.torch')\n",
    "best_step, min(val_losses), val_metrics[best_step]"
   ]
  },
  {
   "cell_type": "markdown",
   "id": "599f79e6-3d59-43be-ac0f-832d87911df0",
   "metadata": {},
   "source": [
    "# Display prediction"
   ]
  },
  {
   "cell_type": "code",
   "execution_count": 28,
   "id": "11706d7a-ecd4-45da-a266-f0e3e87ebae0",
   "metadata": {},
   "outputs": [],
   "source": [
    "for keys, words, positions, target in val_loader:\n",
    "    overall_probabilities, peak_indices = model.forward(words, positions)\n",
    "    break"
   ]
  },
  {
   "cell_type": "code",
   "execution_count": 29,
   "id": "167b9cec-c821-4827-bb22-8fd9853e4c5f",
   "metadata": {},
   "outputs": [
    {
     "data": {
      "image/png": "[encoded data removed]",
      "text/plain": [
       "<PIL.JpegImagePlugin.JpegImageFile image mode=RGB size=1600x2300 at 0x146B10C90>"
      ]
     },
     "execution_count": 29,
     "metadata": {},
     "output_type": "execute_result"
    }
   ],
   "source": [
    "from utils import display_prediction\n",
    "\n",
    "key = keys[0].item()\n",
    "peaks = peak_indices[0].tolist()\n",
    "doc = documents[str(key)]\n",
    "display_prediction(doc, peaks)"
   ]
  },
  {
   "cell_type": "markdown",
   "id": "533a449a-cc06-44f2-8cd5-292cacf73d22",
   "metadata": {},
   "source": [
    "# Inspecting the results"
   ]
  },
  {
   "cell_type": "code",
   "execution_count": 30,
   "id": "0865ea8d-57d7-4f00-a690-ce1aea46a926",
   "metadata": {},
   "outputs": [],
   "source": [
    "from utils import get_threshold_data, get_metrics"
   ]
  },
  {
   "cell_type": "markdown",
   "id": "8412c057-71fd-4fac-961e-a02b40907805",
   "metadata": {},
   "source": [
    "### Validation"
   ]
  },
  {
   "cell_type": "code",
   "execution_count": 39,
   "id": "faf68913-9a99-456e-a521-215cea8c5bbd",
   "metadata": {},
   "outputs": [
    {
     "data": {
      "image/png": "[encoded data removed]",
      "text/plain": [
       "<Figure size 720x720 with 1 Axes>"
      ]
     },
     "metadata": {
      "needs_background": "light"
     },
     "output_type": "display_data"
    }
   ],
   "source": [
    "val_threshold_data = get_threshold_data(model, optimizer, val_loader)\n",
    "\n",
    "correct = val_threshold_data.loc[val_threshold_data.is_correct].confidence.values\n",
    "incorrect = val_threshold_data.loc[~val_threshold_data.is_correct].confidence.values\n",
    "\n",
    "plt.figure(figsize=(10, 10))\n",
    "plt.hist(correct, bins=20, alpha=0.5, color='green', label='correct')\n",
    "plt.hist(incorrect, bins=20, alpha=0.5, color='red', label='incorrect')\n",
    "plt.xlabel('Confidence score')\n",
    "plt.ylabel('Number of documents per bucket')\n",
    "plt.legend()\n",
    "plt.show()"
   ]
  },
  {
   "cell_type": "markdown",
   "id": "8ac6b216-e76e-432b-8587-b432fcfec5e4",
   "metadata": {},
   "source": [
    "### Test"
   ]
  },
  {
   "cell_type": "code",
   "execution_count": 32,
   "id": "b8f6fee2-60a9-4a65-b653-e32ab42b575d",
   "metadata": {},
   "outputs": [
    {
     "data": {
      "text/plain": [
       "{'accuracy': 0.915, 'PR-AUC': 0.9992830292995503}"
      ]
     },
     "execution_count": 32,
     "metadata": {},
     "output_type": "execute_result"
    }
   ],
   "source": [
    "test_threshold_data = get_threshold_data(model, optimizer, test_loader)\n",
    "get_metrics(test_threshold_data)"
   ]
  },
  {
   "cell_type": "code",
   "execution_count": 33,
   "id": "f0d5e2ea-6a7b-4516-a351-298190c5a110",
   "metadata": {},
   "outputs": [
    {
     "data": {
      "image/png": "[encoded data removed]",
      "text/plain": [
       "<Figure size 720x720 with 1 Axes>"
      ]
     },
     "metadata": {
      "needs_background": "light"
     },
     "output_type": "display_data"
    }
   ],
   "source": [
    "correct = test_threshold_data.loc[test_threshold_data.is_correct].confidence.values\n",
    "incorrect = test_threshold_data.loc[~test_threshold_data.is_correct].confidence.values\n",
    "\n",
    "plt.figure(figsize=(10, 10))\n",
    "plt.hist(correct, bins=50, alpha=0.5, color='green', label='correct')\n",
    "plt.hist(incorrect, bins=50, alpha=0.5, color='red', label='incorrect')\n",
    "plt.xlabel('Confidence score')\n",
    "plt.ylabel('Number of documents per bucket')\n",
    "plt.legend()\n",
    "plt.show()"
   ]
  },
  {
   "cell_type": "markdown",
   "id": "831bfe6f-0af9-4778-96a9-a7e666a08065",
   "metadata": {},
   "source": [
    "# Automation and accuracy"
   ]
  },
  {
   "cell_type": "markdown",
   "id": "facb2557-57a4-42b7-9ea7-0f532c0a2331",
   "metadata": {},
   "source": [
    "### Compute threshold on validation"
   ]
  },
  {
   "cell_type": "code",
   "execution_count": 34,
   "id": "2f0ecd90-425f-4ef3-9eca-ea1f4016358d",
   "metadata": {},
   "outputs": [],
   "source": [
    "from utils import find_threshold\n",
    "\n",
    "target_accuracy = 0.99\n",
    "accuracies, automations, threshold_99acc = find_threshold(target_accuracy, val_threshold_data)\n",
    "\n",
    "thresholds = np.linspace(val_threshold_data.confidence.min(), 1, 100)"
   ]
  },
  {
   "cell_type": "code",
   "execution_count": 35,
   "id": "1ab8b43f-59e9-4fdc-bbcb-cd5d016f1801",
   "metadata": {},
   "outputs": [
    {
     "data": {
      "text/plain": [
       "0.5962520320006091"
      ]
     },
     "execution_count": 35,
     "metadata": {},
     "output_type": "execute_result"
    }
   ],
   "source": [
    "threshold_99acc"
   ]
  },
  {
   "cell_type": "code",
   "execution_count": 36,
   "id": "ae08f041-4229-4606-a16c-8df4ffcaafc7",
   "metadata": {},
   "outputs": [
    {
     "data": {
      "text/plain": [
       "(0.9947368421052631, 0.9547738693467337)"
      ]
     },
     "execution_count": 36,
     "metadata": {},
     "output_type": "execute_result"
    }
   ],
   "source": [
    "val_above_threshold = val_threshold_data.loc[val_threshold_data.confidence > threshold_99acc]\n",
    "val_accuracy = val_above_threshold.is_correct.mean()\n",
    "val_automation = len(val_above_threshold)/len(val_threshold_data)\n",
    "val_accuracy, val_automation"
   ]
  },
  {
   "cell_type": "markdown",
   "id": "c6fdf7bd-0bfa-4839-aabc-259af3e7afbb",
   "metadata": {},
   "source": [
    "### Plot automation and accuracy"
   ]
  },
  {
   "cell_type": "code",
   "execution_count": 37,
   "id": "a83d74b1-938c-45bf-bc49-11988efc44cd",
   "metadata": {
    "tags": []
   },
   "outputs": [
    {
     "data": {
      "image/png": "[encoded data removed]",
      "text/plain": [
       "<Figure size 720x360 with 1 Axes>"
      ]
     },
     "metadata": {
      "needs_background": "light"
     },
     "output_type": "display_data"
    }
   ],
   "source": [
    "plt.figure(figsize=(10, 5))\n",
    "plt.plot(thresholds, automations, color='blue', label='automation')\n",
    "plt.plot(thresholds, accuracies, color='green', label='accuracy')\n",
    "plt.axvline(x=threshold_99acc, color='red', linestyle='--', label='0.99 threshold')\n",
    "plt.xlabel('Confidence score')\n",
    "plt.ylabel('Number of documents per bucket')\n",
    "plt.ylim(ymin=0.6)\n",
    "plt.legend()\n",
    "plt.show()"
   ]
  },
  {
   "cell_type": "markdown",
   "id": "320d5207-20c2-41e1-aee1-114064d26eb7",
   "metadata": {},
   "source": [
    "### Get tet automation and test accuracy at the threshold"
   ]
  },
  {
   "cell_type": "code",
   "execution_count": 38,
   "id": "f48f739c-2a68-40e0-8375-c535ee1a0c0f",
   "metadata": {},
   "outputs": [
    {
     "data": {
      "text/plain": [
       "(0.9890710382513661, 0.915)"
      ]
     },
     "execution_count": 38,
     "metadata": {},
     "output_type": "execute_result"
    }
   ],
   "source": [
    "test_above_threshold = test_threshold_data.loc[test_threshold_data.confidence > threshold_99acc]\n",
    "test_accuracy = test_above_threshold.is_correct.mean()\n",
    "test_automation = len(test_above_threshold)/len(test_threshold_data)\n",
    "test_accuracy, test_automation"
   ]
  }
 ],
 "metadata": {
  "kernelspec": {
   "display_name": "Python 3",
   "language": "python",
   "name": "python3"
  },
  "language_info": {
   "codemirror_mode": {
    "name": "ipython",
    "version": 3
   },
   "file_extension": ".py",
   "mimetype": "text/x-python",
   "name": "python",
   "nbconvert_exporter": "python",
   "pygments_lexer": "ipython3",
   "version": "3.7.10"
  }
 },
 "nbformat": 4,
 "nbformat_minor": 5
}